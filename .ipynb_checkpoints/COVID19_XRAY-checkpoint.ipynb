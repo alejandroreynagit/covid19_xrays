{
 "cells": [
  {
   "cell_type": "markdown",
   "metadata": {},
   "source": [
    "## COVID-19 - STAGE 0 PREDIAGNOSIS TOOL"
   ]
  },
  {
   "cell_type": "markdown",
   "metadata": {},
   "source": [
    "The COVID-19 X-ray image dataset we'll be using for this tutorial was curated by Dr. Joseph Cohen, a postdoctoral fellow at the University of Montreal.\n",
    "\n",
    "The database of COVID-19 cases contains chest X-ray or CT images.\n",
    "All images and data were collected by Dr. Cohen, a postdoctoral fellow at the University of Montreal, and are publicly available in this [GitHub](https://github.com/ieee8023/covid-chestxray-dataset) repo. Thank you for this huge contribution.\n",
    "\n",
    "Inside the repo you’ll find example of COVID-19 cases, as well as MERS, SARS, and ARDS.\n",
    "\n",
    "Dr. Cohen paper in this [link](https://arxiv.org/pdf/2003.11597.pdf).\n",
    "\n",
    "For healthy X-ray images, we'll be usgin from this [Kaggle](https://www.kaggle.com/paultimothymooney/chest-xray-pneumonia) dataset with images diagnosed with pneumonia but also contains healthy diagnosis."
   ]
  },
  {
   "cell_type": "markdown",
   "metadata": {},
   "source": [
    "---"
   ]
  },
  {
   "cell_type": "markdown",
   "metadata": {},
   "source": [
    "## <span style='background :yellow'> <font color='black'> The project is under construction, WIP  .. </span>"
   ]
  },
  {
   "cell_type": "markdown",
   "metadata": {},
   "source": [
    "---"
   ]
  },
  {
   "cell_type": "markdown",
   "metadata": {},
   "source": [
    "## LOAD DATA\n",
    "\n",
    "---"
   ]
  },
  {
   "cell_type": "code",
   "execution_count": 1,
   "metadata": {},
   "outputs": [],
   "source": [
    "# import the necessary packages\n",
    "import pandas as pd"
   ]
  },
  {
   "cell_type": "markdown",
   "metadata": {},
   "source": [
    "### COVID-19 Px"
   ]
  },
  {
   "cell_type": "code",
   "execution_count": 2,
   "metadata": {},
   "outputs": [
    {
     "data": {
      "text/html": [
       "<div>\n",
       "<style scoped>\n",
       "    .dataframe tbody tr th:only-of-type {\n",
       "        vertical-align: middle;\n",
       "    }\n",
       "\n",
       "    .dataframe tbody tr th {\n",
       "        vertical-align: top;\n",
       "    }\n",
       "\n",
       "    .dataframe thead th {\n",
       "        text-align: right;\n",
       "    }\n",
       "</style>\n",
       "<table border=\"1\" class=\"dataframe\">\n",
       "  <thead>\n",
       "    <tr style=\"text-align: right;\">\n",
       "      <th></th>\n",
       "      <th>patientid</th>\n",
       "      <th>offset</th>\n",
       "      <th>sex</th>\n",
       "      <th>age</th>\n",
       "      <th>finding</th>\n",
       "      <th>survival</th>\n",
       "      <th>intubated</th>\n",
       "      <th>intubation_present</th>\n",
       "      <th>went_icu</th>\n",
       "      <th>needed_supplemental_O2</th>\n",
       "      <th>...</th>\n",
       "      <th>date</th>\n",
       "      <th>location</th>\n",
       "      <th>folder</th>\n",
       "      <th>filename</th>\n",
       "      <th>doi</th>\n",
       "      <th>url</th>\n",
       "      <th>license</th>\n",
       "      <th>clinical_notes</th>\n",
       "      <th>other_notes</th>\n",
       "      <th>Unnamed: 27</th>\n",
       "    </tr>\n",
       "  </thead>\n",
       "  <tbody>\n",
       "    <tr>\n",
       "      <th>351</th>\n",
       "      <td>196</td>\n",
       "      <td>4</td>\n",
       "      <td>M</td>\n",
       "      <td>73.0</td>\n",
       "      <td>COVID-19</td>\n",
       "      <td>NaN</td>\n",
       "      <td>Y</td>\n",
       "      <td>Y</td>\n",
       "      <td>NaN</td>\n",
       "      <td>NaN</td>\n",
       "      <td>...</td>\n",
       "      <td>NaN</td>\n",
       "      <td>NaN</td>\n",
       "      <td>images</td>\n",
       "      <td>extubation-4.jpg</td>\n",
       "      <td>NaN</td>\n",
       "      <td>https://radiologyassistant.nl/chest/covid-19-c...</td>\n",
       "      <td>NaN</td>\n",
       "      <td>Day 4: bilateral consolidations intubated. His...</td>\n",
       "      <td>NaN</td>\n",
       "      <td>NaN</td>\n",
       "    </tr>\n",
       "    <tr>\n",
       "      <th>352</th>\n",
       "      <td>196</td>\n",
       "      <td>8</td>\n",
       "      <td>M</td>\n",
       "      <td>73.0</td>\n",
       "      <td>COVID-19</td>\n",
       "      <td>NaN</td>\n",
       "      <td>Y</td>\n",
       "      <td>NaN</td>\n",
       "      <td>NaN</td>\n",
       "      <td>NaN</td>\n",
       "      <td>...</td>\n",
       "      <td>NaN</td>\n",
       "      <td>NaN</td>\n",
       "      <td>images</td>\n",
       "      <td>extubation-8.jpg</td>\n",
       "      <td>NaN</td>\n",
       "      <td>https://radiologyassistant.nl/chest/covid-19-c...</td>\n",
       "      <td>NaN</td>\n",
       "      <td>Day 8: bilateral consolidation. History: 73 ye...</td>\n",
       "      <td>NaN</td>\n",
       "      <td>NaN</td>\n",
       "    </tr>\n",
       "    <tr>\n",
       "      <th>353</th>\n",
       "      <td>196</td>\n",
       "      <td>13</td>\n",
       "      <td>M</td>\n",
       "      <td>73.0</td>\n",
       "      <td>COVID-19</td>\n",
       "      <td>NaN</td>\n",
       "      <td>NaN</td>\n",
       "      <td>NaN</td>\n",
       "      <td>NaN</td>\n",
       "      <td>NaN</td>\n",
       "      <td>...</td>\n",
       "      <td>NaN</td>\n",
       "      <td>NaN</td>\n",
       "      <td>images</td>\n",
       "      <td>extubation-13.jpg</td>\n",
       "      <td>NaN</td>\n",
       "      <td>https://radiologyassistant.nl/chest/covid-19-c...</td>\n",
       "      <td>NaN</td>\n",
       "      <td>Day 13: extubation. History: 73 year old male ...</td>\n",
       "      <td>NaN</td>\n",
       "      <td>NaN</td>\n",
       "    </tr>\n",
       "  </tbody>\n",
       "</table>\n",
       "<p>3 rows × 28 columns</p>\n",
       "</div>"
      ],
      "text/plain": [
       "     patientid offset sex   age   finding survival intubated  \\\n",
       "351        196      4   M  73.0  COVID-19      NaN         Y   \n",
       "352        196      8   M  73.0  COVID-19      NaN         Y   \n",
       "353        196     13   M  73.0  COVID-19      NaN       NaN   \n",
       "\n",
       "    intubation_present went_icu needed_supplemental_O2     ...     date  \\\n",
       "351                  Y      NaN                    NaN     ...      NaN   \n",
       "352                NaN      NaN                    NaN     ...      NaN   \n",
       "353                NaN      NaN                    NaN     ...      NaN   \n",
       "\n",
       "     location  folder           filename  doi  \\\n",
       "351       NaN  images   extubation-4.jpg  NaN   \n",
       "352       NaN  images   extubation-8.jpg  NaN   \n",
       "353       NaN  images  extubation-13.jpg  NaN   \n",
       "\n",
       "                                                   url license  \\\n",
       "351  https://radiologyassistant.nl/chest/covid-19-c...     NaN   \n",
       "352  https://radiologyassistant.nl/chest/covid-19-c...     NaN   \n",
       "353  https://radiologyassistant.nl/chest/covid-19-c...     NaN   \n",
       "\n",
       "                                        clinical_notes other_notes Unnamed: 27  \n",
       "351  Day 4: bilateral consolidations intubated. His...         NaN         NaN  \n",
       "352  Day 8: bilateral consolidation. History: 73 ye...         NaN         NaN  \n",
       "353  Day 13: extubation. History: 73 year old male ...         NaN         NaN  \n",
       "\n",
       "[3 rows x 28 columns]"
      ]
     },
     "execution_count": 2,
     "metadata": {},
     "output_type": "execute_result"
    }
   ],
   "source": [
    "data = pd.read_csv('../covid-chestxray-dataset/metadata.csv')\n",
    "data.tail(3)"
   ]
  },
  {
   "cell_type": "code",
   "execution_count": 3,
   "metadata": {},
   "outputs": [
    {
     "name": "stdout",
     "output_type": "stream",
     "text": [
      "**********\n",
      "** Data **\n",
      "**********\n",
      "The dataset contains 354 observations (Px) and 28 attributes describing each of the observations\n"
     ]
    }
   ],
   "source": [
    "# Rows / columns\n",
    "print('**********\\n** Data **\\n**********')\n",
    "print('The dataset contains {0} observations (Px) and {1} attributes describing each of the observations'.format(data.shape[0], (data.shape[1])))"
   ]
  },
  {
   "cell_type": "code",
   "execution_count": 4,
   "metadata": {},
   "outputs": [
    {
     "name": "stdout",
     "output_type": "stream",
     "text": [
      "*************************\n",
      "** Feature description **\n",
      "*************************\n"
     ]
    },
    {
     "data": {
      "text/plain": [
       "Index(['patientid', 'offset', 'sex', 'age', 'finding', 'survival', 'intubated',\n",
       "       'intubation_present', 'went_icu', 'needed_supplemental_O2', 'extubated',\n",
       "       'temperature', 'pO2_saturation', 'leukocyte_count', 'neutrophil_count',\n",
       "       'lymphocyte_count', 'view', 'modality', 'date', 'location', 'folder',\n",
       "       'filename', 'doi', 'url', 'license', 'clinical_notes', 'other_notes',\n",
       "       'Unnamed: 27'],\n",
       "      dtype='object')"
      ]
     },
     "execution_count": 4,
     "metadata": {},
     "output_type": "execute_result"
    }
   ],
   "source": [
    "# Features\n",
    "print('*************************\\n** Feature description **\\n*************************')\n",
    "data.columns"
   ]
  },
  {
   "cell_type": "code",
   "execution_count": 5,
   "metadata": {},
   "outputs": [
    {
     "data": {
      "text/plain": [
       "array(['Y', nan, 'N'], dtype=object)"
      ]
     },
     "execution_count": 5,
     "metadata": {},
     "output_type": "execute_result"
    }
   ],
   "source": [
    "# Keep information regarding patients and their conditions\n",
    "px_covid = data[['patientid','finding','survival','view','filename']]\n",
    "\n",
    "# Get px with COVID-19 including COVID-19, ARDS only (i.e., ignoring MERS, SARS, and ARDS cases).\n",
    "#px_covid = px_covid[(px_covid['finding'] == 'COVID-19, ARDS') & (px_covid['finding'] == 'COVID')]\n",
    "px_covid = px_covid[px_covid['finding'].isin(['COVID-19', 'COVID-19, ARDS'])]\n",
    "\n",
    "px_covid.survival.unique()"
   ]
  },
  {
   "cell_type": "code",
   "execution_count": 6,
   "metadata": {},
   "outputs": [
    {
     "data": {
      "text/html": [
       "<div>\n",
       "<style scoped>\n",
       "    .dataframe tbody tr th:only-of-type {\n",
       "        vertical-align: middle;\n",
       "    }\n",
       "\n",
       "    .dataframe tbody tr th {\n",
       "        vertical-align: top;\n",
       "    }\n",
       "\n",
       "    .dataframe thead th {\n",
       "        text-align: right;\n",
       "    }\n",
       "</style>\n",
       "<table border=\"1\" class=\"dataframe\">\n",
       "  <thead>\n",
       "    <tr style=\"text-align: right;\">\n",
       "      <th></th>\n",
       "      <th>patientid</th>\n",
       "      <th>finding</th>\n",
       "      <th>survival</th>\n",
       "      <th>view</th>\n",
       "      <th>filename</th>\n",
       "    </tr>\n",
       "  </thead>\n",
       "  <tbody>\n",
       "    <tr>\n",
       "      <th>351</th>\n",
       "      <td>196</td>\n",
       "      <td>COVID-19</td>\n",
       "      <td>NaN</td>\n",
       "      <td>PA</td>\n",
       "      <td>extubation-4.jpg</td>\n",
       "    </tr>\n",
       "    <tr>\n",
       "      <th>352</th>\n",
       "      <td>196</td>\n",
       "      <td>COVID-19</td>\n",
       "      <td>NaN</td>\n",
       "      <td>PA</td>\n",
       "      <td>extubation-8.jpg</td>\n",
       "    </tr>\n",
       "    <tr>\n",
       "      <th>353</th>\n",
       "      <td>196</td>\n",
       "      <td>COVID-19</td>\n",
       "      <td>NaN</td>\n",
       "      <td>PA</td>\n",
       "      <td>extubation-13.jpg</td>\n",
       "    </tr>\n",
       "  </tbody>\n",
       "</table>\n",
       "</div>"
      ],
      "text/plain": [
       "     patientid   finding survival view           filename\n",
       "351        196  COVID-19      NaN   PA   extubation-4.jpg\n",
       "352        196  COVID-19      NaN   PA   extubation-8.jpg\n",
       "353        196  COVID-19      NaN   PA  extubation-13.jpg"
      ]
     },
     "execution_count": 6,
     "metadata": {},
     "output_type": "execute_result"
    }
   ],
   "source": [
    "px_covid.tail(3)"
   ]
  },
  {
   "cell_type": "code",
   "execution_count": 7,
   "metadata": {},
   "outputs": [
    {
     "name": "stdout",
     "output_type": "stream",
     "text": [
      "**********\n",
      "** Data **\n",
      "**********\n",
      "Processed dataset contains 153 observations (Px) and 5 attributes describing each of the observations\n"
     ]
    },
    {
     "data": {
      "text/html": [
       "<div>\n",
       "<style scoped>\n",
       "    .dataframe tbody tr th:only-of-type {\n",
       "        vertical-align: middle;\n",
       "    }\n",
       "\n",
       "    .dataframe tbody tr th {\n",
       "        vertical-align: top;\n",
       "    }\n",
       "\n",
       "    .dataframe thead th {\n",
       "        text-align: right;\n",
       "    }\n",
       "</style>\n",
       "<table border=\"1\" class=\"dataframe\">\n",
       "  <thead>\n",
       "    <tr style=\"text-align: right;\">\n",
       "      <th></th>\n",
       "      <th>patientid</th>\n",
       "      <th>finding</th>\n",
       "      <th>survival</th>\n",
       "      <th>view</th>\n",
       "      <th>filename</th>\n",
       "    </tr>\n",
       "  </thead>\n",
       "  <tbody>\n",
       "    <tr>\n",
       "      <th>349</th>\n",
       "      <td>195</td>\n",
       "      <td>COVID-19</td>\n",
       "      <td>N</td>\n",
       "      <td>PA</td>\n",
       "      <td>7-fatal-covid19.jpg</td>\n",
       "    </tr>\n",
       "    <tr>\n",
       "      <th>350</th>\n",
       "      <td>196</td>\n",
       "      <td>COVID-19</td>\n",
       "      <td>NaN</td>\n",
       "      <td>PA</td>\n",
       "      <td>extubation-1.jpg</td>\n",
       "    </tr>\n",
       "    <tr>\n",
       "      <th>351</th>\n",
       "      <td>196</td>\n",
       "      <td>COVID-19</td>\n",
       "      <td>NaN</td>\n",
       "      <td>PA</td>\n",
       "      <td>extubation-4.jpg</td>\n",
       "    </tr>\n",
       "    <tr>\n",
       "      <th>352</th>\n",
       "      <td>196</td>\n",
       "      <td>COVID-19</td>\n",
       "      <td>NaN</td>\n",
       "      <td>PA</td>\n",
       "      <td>extubation-8.jpg</td>\n",
       "    </tr>\n",
       "    <tr>\n",
       "      <th>353</th>\n",
       "      <td>196</td>\n",
       "      <td>COVID-19</td>\n",
       "      <td>NaN</td>\n",
       "      <td>PA</td>\n",
       "      <td>extubation-13.jpg</td>\n",
       "    </tr>\n",
       "  </tbody>\n",
       "</table>\n",
       "</div>"
      ],
      "text/plain": [
       "     patientid   finding survival view             filename\n",
       "349        195  COVID-19        N   PA  7-fatal-covid19.jpg\n",
       "350        196  COVID-19      NaN   PA     extubation-1.jpg\n",
       "351        196  COVID-19      NaN   PA     extubation-4.jpg\n",
       "352        196  COVID-19      NaN   PA     extubation-8.jpg\n",
       "353        196  COVID-19      NaN   PA    extubation-13.jpg"
      ]
     },
     "execution_count": 7,
     "metadata": {},
     "output_type": "execute_result"
    }
   ],
   "source": [
    "# Keep only the registers with Posterioranterior (PA) view of the lungs\n",
    "px_covid = px_covid[px_covid['view'] == 'PA']\n",
    "\n",
    "# Rows / columns\n",
    "print('**********\\n** Data **\\n**********')\n",
    "print('Processed dataset contains {0} observations (Px) and {1} attributes describing each of the observations'.format(px_covid.shape[0], (px_covid.shape[1])))\n",
    "px_covid.tail(5)"
   ]
  },
  {
   "cell_type": "code",
   "execution_count": 8,
   "metadata": {},
   "outputs": [
    {
     "data": {
      "text/plain": [
       "array(['Y', nan, 'N'], dtype=object)"
      ]
     },
     "execution_count": 8,
     "metadata": {},
     "output_type": "execute_result"
    }
   ],
   "source": [
    "px_covid.survival.unique()"
   ]
  },
  {
   "cell_type": "markdown",
   "metadata": {},
   "source": [
    "### Healthy Px\n",
    "\n",
    "Take a look [here](https://nihcc.app.box.com/v/ChestXray-NIHCC) \n",
    "\n",
    "[NIH Chest X-ray dataset](https://cloud.google.com/healthcare/docs/resources/public-datasets/nih-chest)\n"
   ]
  },
  {
   "cell_type": "code",
   "execution_count": 9,
   "metadata": {},
   "outputs": [
    {
     "data": {
      "text/html": [
       "<div>\n",
       "<style scoped>\n",
       "    .dataframe tbody tr th:only-of-type {\n",
       "        vertical-align: middle;\n",
       "    }\n",
       "\n",
       "    .dataframe tbody tr th {\n",
       "        vertical-align: top;\n",
       "    }\n",
       "\n",
       "    .dataframe thead th {\n",
       "        text-align: right;\n",
       "    }\n",
       "</style>\n",
       "<table border=\"1\" class=\"dataframe\">\n",
       "  <thead>\n",
       "    <tr style=\"text-align: right;\">\n",
       "      <th></th>\n",
       "      <th>Image Index</th>\n",
       "      <th>Finding Labels</th>\n",
       "      <th>Follow-up #</th>\n",
       "      <th>Patient ID</th>\n",
       "      <th>Patient Age</th>\n",
       "      <th>Patient Gender</th>\n",
       "      <th>View Position</th>\n",
       "      <th>OriginalImage[Width</th>\n",
       "      <th>Height]</th>\n",
       "      <th>OriginalImagePixelSpacing[x</th>\n",
       "      <th>y]</th>\n",
       "    </tr>\n",
       "  </thead>\n",
       "  <tbody>\n",
       "    <tr>\n",
       "      <th>112117</th>\n",
       "      <td>00030803_000.png</td>\n",
       "      <td>No Finding</td>\n",
       "      <td>0</td>\n",
       "      <td>30803</td>\n",
       "      <td>42</td>\n",
       "      <td>F</td>\n",
       "      <td>PA</td>\n",
       "      <td>2048</td>\n",
       "      <td>2500</td>\n",
       "      <td>0.168</td>\n",
       "      <td>0.168</td>\n",
       "    </tr>\n",
       "    <tr>\n",
       "      <th>112118</th>\n",
       "      <td>00030804_000.png</td>\n",
       "      <td>No Finding</td>\n",
       "      <td>0</td>\n",
       "      <td>30804</td>\n",
       "      <td>29</td>\n",
       "      <td>F</td>\n",
       "      <td>PA</td>\n",
       "      <td>2048</td>\n",
       "      <td>2500</td>\n",
       "      <td>0.168</td>\n",
       "      <td>0.168</td>\n",
       "    </tr>\n",
       "    <tr>\n",
       "      <th>112119</th>\n",
       "      <td>00030805_000.png</td>\n",
       "      <td>No Finding</td>\n",
       "      <td>0</td>\n",
       "      <td>30805</td>\n",
       "      <td>26</td>\n",
       "      <td>M</td>\n",
       "      <td>PA</td>\n",
       "      <td>2048</td>\n",
       "      <td>2500</td>\n",
       "      <td>0.171</td>\n",
       "      <td>0.171</td>\n",
       "    </tr>\n",
       "  </tbody>\n",
       "</table>\n",
       "</div>"
      ],
      "text/plain": [
       "             Image Index Finding Labels  Follow-up #  Patient ID  Patient Age  \\\n",
       "112117  00030803_000.png     No Finding            0       30803           42   \n",
       "112118  00030804_000.png     No Finding            0       30804           29   \n",
       "112119  00030805_000.png     No Finding            0       30805           26   \n",
       "\n",
       "       Patient Gender View Position  OriginalImage[Width  Height]  \\\n",
       "112117              F            PA                 2048     2500   \n",
       "112118              F            PA                 2048     2500   \n",
       "112119              M            PA                 2048     2500   \n",
       "\n",
       "        OriginalImagePixelSpacing[x     y]  \n",
       "112117                        0.168  0.168  \n",
       "112118                        0.168  0.168  \n",
       "112119                        0.171  0.171  "
      ]
     },
     "execution_count": 9,
     "metadata": {},
     "output_type": "execute_result"
    }
   ],
   "source": [
    "data_normal = pd.read_csv('../covid-chestxray-dataset/Normal_Data_Entry_2017_v2020.csv')\n",
    "data_normal.tail(3)"
   ]
  },
  {
   "cell_type": "code",
   "execution_count": 10,
   "metadata": {},
   "outputs": [
    {
     "name": "stdout",
     "output_type": "stream",
     "text": [
      "**********\n",
      "** Data **\n",
      "**********\n",
      "Original dataset contains 112120 **observations** (Px) and 11 attributes describing each of the observations\n",
      "No Covid-19 dataset contains 60361 **observations** (Px) and 11 attributes describing each of the observations\n",
      "Processed dataset contains **39302** observations (Px) and 11 attributes describing each of the observations\n"
     ]
    }
   ],
   "source": [
    "print('**********\\n** Data **\\n**********')\n",
    "print('Original dataset contains {0} **observations** (Px) and {1} attributes describing each of the observations'.format(data_normal.shape[0], (data_normal.shape[1])))\n",
    "data_normal = data_normal[data_normal['Finding Labels'].isin(['No Finding'])] \n",
    "print('No Covid-19 dataset contains {0} **observations** (Px) and {1} attributes describing each of the observations'.format(data_normal.shape[0], (data_normal.shape[1])))\n",
    "\n",
    "# Keep only the registers with Posterioranterior (PA) view of the lungs\n",
    "data_normal = data_normal[data_normal['View Position'] == 'PA']\n",
    "print('Processed dataset contains **{0}** observations (Px) and {1} attributes describing each of the observations'.format(data_normal.shape[0], (data_normal.shape[1])))"
   ]
  },
  {
   "cell_type": "markdown",
   "metadata": {},
   "source": [
    ".\n",
    "\n",
    ".\n",
    "\n",
    ".\n"
   ]
  },
  {
   "cell_type": "markdown",
   "metadata": {},
   "source": [
    "WIP"
   ]
  }
 ],
 "metadata": {
  "kernelspec": {
   "display_name": "Python 3",
   "language": "python",
   "name": "python3"
  },
  "language_info": {
   "codemirror_mode": {
    "name": "ipython",
    "version": 3
   },
   "file_extension": ".py",
   "mimetype": "text/x-python",
   "name": "python",
   "nbconvert_exporter": "python",
   "pygments_lexer": "ipython3",
   "version": "3.6.5"
  }
 },
 "nbformat": 4,
 "nbformat_minor": 2
}
