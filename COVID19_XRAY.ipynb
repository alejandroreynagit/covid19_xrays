{
 "cells": [
  {
   "cell_type": "markdown",
   "metadata": {},
   "source": [
    "## COVID-19 - STAGE 0 PREDIAGNOSIS TOOL"
   ]
  },
  {
   "cell_type": "markdown",
   "metadata": {},
   "source": [
    "The COVID-19 X-ray image dataset we’ll be using for this tutorial was curated by Dr. Joseph Cohen, a postdoctoral fellow at the University of Montreal.\n",
    "\n",
    "The database of COVID-19 cases with chest X-ray or CT images.\n",
    "All images and data were collected by Dr. Cohen, a postdoctoral fellow at the University of Montreal, and are publicly available in this [GitHub](https://github.com/ieee8023/covid-chestxray-dataset) repo. \n",
    "\n",
    "Inside the repo you’ll find example of COVID-19 cases, as well as MERS, SARS, and ARDS.\n",
    "\n",
    "Dr. Cohen paper in this [link](https://arxiv.org/pdf/2003.11597.pdf)."
   ]
  },
  {
   "cell_type": "markdown",
   "metadata": {},
   "source": [
    "---"
   ]
  },
  {
   "cell_type": "markdown",
   "metadata": {},
   "source": [
    "## <span style='background :yellow'> <font color='black'> The project is under construction, WIP  .. </span>"
   ]
  },
  {
   "cell_type": "markdown",
   "metadata": {},
   "source": [
    "---"
   ]
  },
  {
   "cell_type": "code",
   "execution_count": 132,
   "metadata": {},
   "outputs": [],
   "source": [
    "# import the necessary packages\n",
    "\n",
    "import pandas as pd"
   ]
  },
  {
   "cell_type": "markdown",
   "metadata": {},
   "source": [
    "## Load data - COVID Px"
   ]
  },
  {
   "cell_type": "code",
   "execution_count": 113,
   "metadata": {},
   "outputs": [
    {
     "data": {
      "text/html": [
       "<div>\n",
       "<style scoped>\n",
       "    .dataframe tbody tr th:only-of-type {\n",
       "        vertical-align: middle;\n",
       "    }\n",
       "\n",
       "    .dataframe tbody tr th {\n",
       "        vertical-align: top;\n",
       "    }\n",
       "\n",
       "    .dataframe thead th {\n",
       "        text-align: right;\n",
       "    }\n",
       "</style>\n",
       "<table border=\"1\" class=\"dataframe\">\n",
       "  <thead>\n",
       "    <tr style=\"text-align: right;\">\n",
       "      <th></th>\n",
       "      <th>patientid</th>\n",
       "      <th>offset</th>\n",
       "      <th>sex</th>\n",
       "      <th>age</th>\n",
       "      <th>finding</th>\n",
       "      <th>survival</th>\n",
       "      <th>intubated</th>\n",
       "      <th>intubation_present</th>\n",
       "      <th>went_icu</th>\n",
       "      <th>needed_supplemental_O2</th>\n",
       "      <th>...</th>\n",
       "      <th>date</th>\n",
       "      <th>location</th>\n",
       "      <th>folder</th>\n",
       "      <th>filename</th>\n",
       "      <th>doi</th>\n",
       "      <th>url</th>\n",
       "      <th>license</th>\n",
       "      <th>clinical_notes</th>\n",
       "      <th>other_notes</th>\n",
       "      <th>Unnamed: 27</th>\n",
       "    </tr>\n",
       "  </thead>\n",
       "  <tbody>\n",
       "    <tr>\n",
       "      <th>349</th>\n",
       "      <td>195</td>\n",
       "      <td></td>\n",
       "      <td>M</td>\n",
       "      <td>83.0</td>\n",
       "      <td>COVID-19</td>\n",
       "      <td>N</td>\n",
       "      <td>N</td>\n",
       "      <td>NaN</td>\n",
       "      <td>NaN</td>\n",
       "      <td>NaN</td>\n",
       "      <td>...</td>\n",
       "      <td>NaN</td>\n",
       "      <td>NaN</td>\n",
       "      <td>images</td>\n",
       "      <td>7-fatal-covid19.jpg</td>\n",
       "      <td>NaN</td>\n",
       "      <td>https://radiologyassistant.nl/chest/covid-19-c...</td>\n",
       "      <td>NaN</td>\n",
       "      <td>83 year old male with mitral insufficiency and...</td>\n",
       "      <td>NaN</td>\n",
       "      <td>NaN</td>\n",
       "    </tr>\n",
       "    <tr>\n",
       "      <th>350</th>\n",
       "      <td>196</td>\n",
       "      <td>1</td>\n",
       "      <td>M</td>\n",
       "      <td>73.0</td>\n",
       "      <td>COVID-19</td>\n",
       "      <td>NaN</td>\n",
       "      <td>NaN</td>\n",
       "      <td>NaN</td>\n",
       "      <td>NaN</td>\n",
       "      <td>NaN</td>\n",
       "      <td>...</td>\n",
       "      <td>NaN</td>\n",
       "      <td>NaN</td>\n",
       "      <td>images</td>\n",
       "      <td>extubation-1.jpg</td>\n",
       "      <td>NaN</td>\n",
       "      <td>https://radiologyassistant.nl/chest/covid-19-c...</td>\n",
       "      <td>NaN</td>\n",
       "      <td>Day 1: normal findings. History: 73 year old m...</td>\n",
       "      <td>NaN</td>\n",
       "      <td>NaN</td>\n",
       "    </tr>\n",
       "    <tr>\n",
       "      <th>351</th>\n",
       "      <td>196</td>\n",
       "      <td>4</td>\n",
       "      <td>M</td>\n",
       "      <td>73.0</td>\n",
       "      <td>COVID-19</td>\n",
       "      <td>NaN</td>\n",
       "      <td>Y</td>\n",
       "      <td>Y</td>\n",
       "      <td>NaN</td>\n",
       "      <td>NaN</td>\n",
       "      <td>...</td>\n",
       "      <td>NaN</td>\n",
       "      <td>NaN</td>\n",
       "      <td>images</td>\n",
       "      <td>extubation-4.jpg</td>\n",
       "      <td>NaN</td>\n",
       "      <td>https://radiologyassistant.nl/chest/covid-19-c...</td>\n",
       "      <td>NaN</td>\n",
       "      <td>Day 4: bilateral consolidations intubated. His...</td>\n",
       "      <td>NaN</td>\n",
       "      <td>NaN</td>\n",
       "    </tr>\n",
       "    <tr>\n",
       "      <th>352</th>\n",
       "      <td>196</td>\n",
       "      <td>8</td>\n",
       "      <td>M</td>\n",
       "      <td>73.0</td>\n",
       "      <td>COVID-19</td>\n",
       "      <td>NaN</td>\n",
       "      <td>Y</td>\n",
       "      <td>NaN</td>\n",
       "      <td>NaN</td>\n",
       "      <td>NaN</td>\n",
       "      <td>...</td>\n",
       "      <td>NaN</td>\n",
       "      <td>NaN</td>\n",
       "      <td>images</td>\n",
       "      <td>extubation-8.jpg</td>\n",
       "      <td>NaN</td>\n",
       "      <td>https://radiologyassistant.nl/chest/covid-19-c...</td>\n",
       "      <td>NaN</td>\n",
       "      <td>Day 8: bilateral consolidation. History: 73 ye...</td>\n",
       "      <td>NaN</td>\n",
       "      <td>NaN</td>\n",
       "    </tr>\n",
       "    <tr>\n",
       "      <th>353</th>\n",
       "      <td>196</td>\n",
       "      <td>13</td>\n",
       "      <td>M</td>\n",
       "      <td>73.0</td>\n",
       "      <td>COVID-19</td>\n",
       "      <td>NaN</td>\n",
       "      <td>NaN</td>\n",
       "      <td>NaN</td>\n",
       "      <td>NaN</td>\n",
       "      <td>NaN</td>\n",
       "      <td>...</td>\n",
       "      <td>NaN</td>\n",
       "      <td>NaN</td>\n",
       "      <td>images</td>\n",
       "      <td>extubation-13.jpg</td>\n",
       "      <td>NaN</td>\n",
       "      <td>https://radiologyassistant.nl/chest/covid-19-c...</td>\n",
       "      <td>NaN</td>\n",
       "      <td>Day 13: extubation. History: 73 year old male ...</td>\n",
       "      <td>NaN</td>\n",
       "      <td>NaN</td>\n",
       "    </tr>\n",
       "  </tbody>\n",
       "</table>\n",
       "<p>5 rows × 28 columns</p>\n",
       "</div>"
      ],
      "text/plain": [
       "     patientid offset sex   age   finding survival intubated  \\\n",
       "349        195          M  83.0  COVID-19        N         N   \n",
       "350        196      1   M  73.0  COVID-19      NaN       NaN   \n",
       "351        196      4   M  73.0  COVID-19      NaN         Y   \n",
       "352        196      8   M  73.0  COVID-19      NaN         Y   \n",
       "353        196     13   M  73.0  COVID-19      NaN       NaN   \n",
       "\n",
       "    intubation_present went_icu needed_supplemental_O2     ...     date  \\\n",
       "349                NaN      NaN                    NaN     ...      NaN   \n",
       "350                NaN      NaN                    NaN     ...      NaN   \n",
       "351                  Y      NaN                    NaN     ...      NaN   \n",
       "352                NaN      NaN                    NaN     ...      NaN   \n",
       "353                NaN      NaN                    NaN     ...      NaN   \n",
       "\n",
       "     location  folder             filename  doi  \\\n",
       "349       NaN  images  7-fatal-covid19.jpg  NaN   \n",
       "350       NaN  images     extubation-1.jpg  NaN   \n",
       "351       NaN  images     extubation-4.jpg  NaN   \n",
       "352       NaN  images     extubation-8.jpg  NaN   \n",
       "353       NaN  images    extubation-13.jpg  NaN   \n",
       "\n",
       "                                                   url license  \\\n",
       "349  https://radiologyassistant.nl/chest/covid-19-c...     NaN   \n",
       "350  https://radiologyassistant.nl/chest/covid-19-c...     NaN   \n",
       "351  https://radiologyassistant.nl/chest/covid-19-c...     NaN   \n",
       "352  https://radiologyassistant.nl/chest/covid-19-c...     NaN   \n",
       "353  https://radiologyassistant.nl/chest/covid-19-c...     NaN   \n",
       "\n",
       "                                        clinical_notes other_notes Unnamed: 27  \n",
       "349  83 year old male with mitral insufficiency and...         NaN         NaN  \n",
       "350  Day 1: normal findings. History: 73 year old m...         NaN         NaN  \n",
       "351  Day 4: bilateral consolidations intubated. His...         NaN         NaN  \n",
       "352  Day 8: bilateral consolidation. History: 73 ye...         NaN         NaN  \n",
       "353  Day 13: extubation. History: 73 year old male ...         NaN         NaN  \n",
       "\n",
       "[5 rows x 28 columns]"
      ]
     },
     "execution_count": 113,
     "metadata": {},
     "output_type": "execute_result"
    }
   ],
   "source": [
    "px_data = pd.read_csv('../../../../../SDC/covid-chestxray-dataset/metadata.csv')\n",
    "px_data.tail()"
   ]
  },
  {
   "cell_type": "code",
   "execution_count": 114,
   "metadata": {},
   "outputs": [
    {
     "data": {
      "text/plain": [
       "(354, 28)"
      ]
     },
     "execution_count": 114,
     "metadata": {},
     "output_type": "execute_result"
    }
   ],
   "source": [
    "px_data.shape"
   ]
  },
  {
   "cell_type": "code",
   "execution_count": 115,
   "metadata": {},
   "outputs": [
    {
     "data": {
      "text/plain": [
       "Index(['patientid', 'offset', 'sex', 'age', 'finding', 'survival', 'intubated',\n",
       "       'intubation_present', 'went_icu', 'needed_supplemental_O2', 'extubated',\n",
       "       'temperature', 'pO2_saturation', 'leukocyte_count', 'neutrophil_count',\n",
       "       'lymphocyte_count', 'view', 'modality', 'date', 'location', 'folder',\n",
       "       'filename', 'doi', 'url', 'license', 'clinical_notes', 'other_notes',\n",
       "       'Unnamed: 27'],\n",
       "      dtype='object')"
      ]
     },
     "execution_count": 115,
     "metadata": {},
     "output_type": "execute_result"
    }
   ],
   "source": [
    "px_data.columns"
   ]
  },
  {
   "cell_type": "code",
   "execution_count": 126,
   "metadata": {},
   "outputs": [],
   "source": [
    "px_covid = px_data[['patientid','finding','survival','view','filename']]"
   ]
  },
  {
   "cell_type": "code",
   "execution_count": 127,
   "metadata": {
    "scrolled": true
   },
   "outputs": [
    {
     "data": {
      "text/plain": [
       "array(['Y', nan, 'N'], dtype=object)"
      ]
     },
     "execution_count": 127,
     "metadata": {},
     "output_type": "execute_result"
    }
   ],
   "source": [
    "# Get px with COVID-19 only (i.e., ignoring MERS, SARS, and ARDS cases).\n",
    "px_covid = px_covid[px_covid['finding'] == 'COVID-19']\n",
    "px_covid.survival.unique()"
   ]
  },
  {
   "cell_type": "code",
   "execution_count": 128,
   "metadata": {},
   "outputs": [
    {
     "name": "stdout",
     "output_type": "stream",
     "text": [
      "(278, 5)\n"
     ]
    },
    {
     "data": {
      "text/html": [
       "<div>\n",
       "<style scoped>\n",
       "    .dataframe tbody tr th:only-of-type {\n",
       "        vertical-align: middle;\n",
       "    }\n",
       "\n",
       "    .dataframe tbody tr th {\n",
       "        vertical-align: top;\n",
       "    }\n",
       "\n",
       "    .dataframe thead th {\n",
       "        text-align: right;\n",
       "    }\n",
       "</style>\n",
       "<table border=\"1\" class=\"dataframe\">\n",
       "  <thead>\n",
       "    <tr style=\"text-align: right;\">\n",
       "      <th></th>\n",
       "      <th>patientid</th>\n",
       "      <th>finding</th>\n",
       "      <th>survival</th>\n",
       "      <th>view</th>\n",
       "      <th>filename</th>\n",
       "    </tr>\n",
       "  </thead>\n",
       "  <tbody>\n",
       "    <tr>\n",
       "      <th>342</th>\n",
       "      <td>190</td>\n",
       "      <td>COVID-19</td>\n",
       "      <td>NaN</td>\n",
       "      <td>PA</td>\n",
       "      <td>88de9d8c39e946abd495b37cd07d89e5-6531-0.jpg</td>\n",
       "    </tr>\n",
       "    <tr>\n",
       "      <th>343</th>\n",
       "      <td>191</td>\n",
       "      <td>COVID-19</td>\n",
       "      <td>NaN</td>\n",
       "      <td>AP Supine</td>\n",
       "      <td>67d668e570c242404ba82c7cbe2ca8f2-05be-0.jpg</td>\n",
       "    </tr>\n",
       "    <tr>\n",
       "      <th>344</th>\n",
       "      <td>191</td>\n",
       "      <td>COVID-19</td>\n",
       "      <td>NaN</td>\n",
       "      <td>AP Supine</td>\n",
       "      <td>67d668e570c242404ba82c7cbe2ca8f2-0015-0.jpg</td>\n",
       "    </tr>\n",
       "    <tr>\n",
       "      <th>345</th>\n",
       "      <td>192</td>\n",
       "      <td>COVID-19</td>\n",
       "      <td>NaN</td>\n",
       "      <td>PA</td>\n",
       "      <td>AR-1.jpg</td>\n",
       "    </tr>\n",
       "    <tr>\n",
       "      <th>346</th>\n",
       "      <td>192</td>\n",
       "      <td>COVID-19</td>\n",
       "      <td>NaN</td>\n",
       "      <td>PA</td>\n",
       "      <td>AR-2.jpg</td>\n",
       "    </tr>\n",
       "    <tr>\n",
       "      <th>347</th>\n",
       "      <td>193</td>\n",
       "      <td>COVID-19</td>\n",
       "      <td>NaN</td>\n",
       "      <td>PA</td>\n",
       "      <td>2-chest-filmc.jpg</td>\n",
       "    </tr>\n",
       "    <tr>\n",
       "      <th>348</th>\n",
       "      <td>194</td>\n",
       "      <td>COVID-19</td>\n",
       "      <td>NaN</td>\n",
       "      <td>PA</td>\n",
       "      <td>paving.jpg</td>\n",
       "    </tr>\n",
       "    <tr>\n",
       "      <th>349</th>\n",
       "      <td>195</td>\n",
       "      <td>COVID-19</td>\n",
       "      <td>N</td>\n",
       "      <td>PA</td>\n",
       "      <td>7-fatal-covid19.jpg</td>\n",
       "    </tr>\n",
       "    <tr>\n",
       "      <th>350</th>\n",
       "      <td>196</td>\n",
       "      <td>COVID-19</td>\n",
       "      <td>NaN</td>\n",
       "      <td>PA</td>\n",
       "      <td>extubation-1.jpg</td>\n",
       "    </tr>\n",
       "    <tr>\n",
       "      <th>351</th>\n",
       "      <td>196</td>\n",
       "      <td>COVID-19</td>\n",
       "      <td>NaN</td>\n",
       "      <td>PA</td>\n",
       "      <td>extubation-4.jpg</td>\n",
       "    </tr>\n",
       "    <tr>\n",
       "      <th>352</th>\n",
       "      <td>196</td>\n",
       "      <td>COVID-19</td>\n",
       "      <td>NaN</td>\n",
       "      <td>PA</td>\n",
       "      <td>extubation-8.jpg</td>\n",
       "    </tr>\n",
       "    <tr>\n",
       "      <th>353</th>\n",
       "      <td>196</td>\n",
       "      <td>COVID-19</td>\n",
       "      <td>NaN</td>\n",
       "      <td>PA</td>\n",
       "      <td>extubation-13.jpg</td>\n",
       "    </tr>\n",
       "  </tbody>\n",
       "</table>\n",
       "</div>"
      ],
      "text/plain": [
       "     patientid   finding survival       view  \\\n",
       "342        190  COVID-19      NaN         PA   \n",
       "343        191  COVID-19      NaN  AP Supine   \n",
       "344        191  COVID-19      NaN  AP Supine   \n",
       "345        192  COVID-19      NaN         PA   \n",
       "346        192  COVID-19      NaN         PA   \n",
       "347        193  COVID-19      NaN         PA   \n",
       "348        194  COVID-19      NaN         PA   \n",
       "349        195  COVID-19        N         PA   \n",
       "350        196  COVID-19      NaN         PA   \n",
       "351        196  COVID-19      NaN         PA   \n",
       "352        196  COVID-19      NaN         PA   \n",
       "353        196  COVID-19      NaN         PA   \n",
       "\n",
       "                                        filename  \n",
       "342  88de9d8c39e946abd495b37cd07d89e5-6531-0.jpg  \n",
       "343  67d668e570c242404ba82c7cbe2ca8f2-05be-0.jpg  \n",
       "344  67d668e570c242404ba82c7cbe2ca8f2-0015-0.jpg  \n",
       "345                                     AR-1.jpg  \n",
       "346                                     AR-2.jpg  \n",
       "347                            2-chest-filmc.jpg  \n",
       "348                                   paving.jpg  \n",
       "349                          7-fatal-covid19.jpg  \n",
       "350                             extubation-1.jpg  \n",
       "351                             extubation-4.jpg  \n",
       "352                             extubation-8.jpg  \n",
       "353                            extubation-13.jpg  "
      ]
     },
     "execution_count": 128,
     "metadata": {},
     "output_type": "execute_result"
    }
   ],
   "source": [
    "print(px_covid.shape)\n",
    "px_covid.tail(12)"
   ]
  },
  {
   "cell_type": "code",
   "execution_count": 129,
   "metadata": {},
   "outputs": [
    {
     "name": "stdout",
     "output_type": "stream",
     "text": [
      "(142, 5)\n"
     ]
    },
    {
     "data": {
      "text/html": [
       "<div>\n",
       "<style scoped>\n",
       "    .dataframe tbody tr th:only-of-type {\n",
       "        vertical-align: middle;\n",
       "    }\n",
       "\n",
       "    .dataframe tbody tr th {\n",
       "        vertical-align: top;\n",
       "    }\n",
       "\n",
       "    .dataframe thead th {\n",
       "        text-align: right;\n",
       "    }\n",
       "</style>\n",
       "<table border=\"1\" class=\"dataframe\">\n",
       "  <thead>\n",
       "    <tr style=\"text-align: right;\">\n",
       "      <th></th>\n",
       "      <th>patientid</th>\n",
       "      <th>finding</th>\n",
       "      <th>survival</th>\n",
       "      <th>view</th>\n",
       "      <th>filename</th>\n",
       "    </tr>\n",
       "  </thead>\n",
       "  <tbody>\n",
       "    <tr>\n",
       "      <th>349</th>\n",
       "      <td>195</td>\n",
       "      <td>COVID-19</td>\n",
       "      <td>N</td>\n",
       "      <td>PA</td>\n",
       "      <td>7-fatal-covid19.jpg</td>\n",
       "    </tr>\n",
       "    <tr>\n",
       "      <th>350</th>\n",
       "      <td>196</td>\n",
       "      <td>COVID-19</td>\n",
       "      <td>NaN</td>\n",
       "      <td>PA</td>\n",
       "      <td>extubation-1.jpg</td>\n",
       "    </tr>\n",
       "    <tr>\n",
       "      <th>351</th>\n",
       "      <td>196</td>\n",
       "      <td>COVID-19</td>\n",
       "      <td>NaN</td>\n",
       "      <td>PA</td>\n",
       "      <td>extubation-4.jpg</td>\n",
       "    </tr>\n",
       "    <tr>\n",
       "      <th>352</th>\n",
       "      <td>196</td>\n",
       "      <td>COVID-19</td>\n",
       "      <td>NaN</td>\n",
       "      <td>PA</td>\n",
       "      <td>extubation-8.jpg</td>\n",
       "    </tr>\n",
       "    <tr>\n",
       "      <th>353</th>\n",
       "      <td>196</td>\n",
       "      <td>COVID-19</td>\n",
       "      <td>NaN</td>\n",
       "      <td>PA</td>\n",
       "      <td>extubation-13.jpg</td>\n",
       "    </tr>\n",
       "  </tbody>\n",
       "</table>\n",
       "</div>"
      ],
      "text/plain": [
       "     patientid   finding survival view             filename\n",
       "349        195  COVID-19        N   PA  7-fatal-covid19.jpg\n",
       "350        196  COVID-19      NaN   PA     extubation-1.jpg\n",
       "351        196  COVID-19      NaN   PA     extubation-4.jpg\n",
       "352        196  COVID-19      NaN   PA     extubation-8.jpg\n",
       "353        196  COVID-19      NaN   PA    extubation-13.jpg"
      ]
     },
     "execution_count": 129,
     "metadata": {},
     "output_type": "execute_result"
    }
   ],
   "source": [
    "# Keep only the registers with Posterioranterior (PA) view of the lungs\n",
    "px_covid = px_covid[px_covid['view'] == 'PA']\n",
    "\n",
    "print(px_covid.shape)\n",
    "px_covid.tail(5)"
   ]
  },
  {
   "cell_type": "code",
   "execution_count": 130,
   "metadata": {},
   "outputs": [
    {
     "data": {
      "text/plain": [
       "array(['Y', nan, 'N'], dtype=object)"
      ]
     },
     "execution_count": 130,
     "metadata": {},
     "output_type": "execute_result"
    }
   ],
   "source": [
    "px_covid.survival.unique()"
   ]
  },
  {
   "cell_type": "markdown",
   "metadata": {},
   "source": [
    "## Load data - Healthy Px"
   ]
  },
  {
   "cell_type": "markdown",
   "metadata": {},
   "source": [
    "https://www.kaggle.com/paultimothymooney/chest-xray-pneumonia"
   ]
  },
  {
   "cell_type": "code",
   "execution_count": null,
   "metadata": {},
   "outputs": [],
   "source": []
  }
 ],
 "metadata": {
  "kernelspec": {
   "display_name": "Python 3",
   "language": "python",
   "name": "python3"
  },
  "language_info": {
   "codemirror_mode": {
    "name": "ipython",
    "version": 3
   },
   "file_extension": ".py",
   "mimetype": "text/x-python",
   "name": "python",
   "nbconvert_exporter": "python",
   "pygments_lexer": "ipython3",
   "version": "3.6.5"
  }
 },
 "nbformat": 4,
 "nbformat_minor": 2
}
